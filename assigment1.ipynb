{
  "nbformat": 4,
  "nbformat_minor": 0,
  "metadata": {
    "colab": {
      "provenance": []
    },
    "kernelspec": {
      "name": "python3",
      "display_name": "Python 3"
    },
    "language_info": {
      "name": "python"
    }
  },
  "cells": [
    {
      "cell_type": "code",
      "execution_count": 4,
      "metadata": {
        "colab": {
          "base_uri": "https://localhost:8080/"
        },
        "id": "ANUuRpMBAq8x",
        "outputId": "45100538-48e0-4458-bcf1-1b2836e33e92"
      },
      "outputs": [
        {
          "name": "stdout",
          "output_type": "stream",
          "text": [
            "enter a number:3\n"
          ]
        },
        {
          "output_type": "execute_result",
          "data": {
            "text/plain": [
              "39"
            ]
          },
          "metadata": {},
          "execution_count": 4
        }
      ],
      "source": [
        "num=int(input(\"enter a number:\"))\n",
        "\n",
        "q=num+num*num+num*num*num\n",
        "q"
      ]
    },
    {
      "cell_type": "code",
      "source": [
        "inf=input(\"Enter the first name :\")\n",
        "ins=input('Enter the second name :')\n",
        "print(ins,inf,sep=' ')\n",
        "\n",
        "inf=input(\"Enter the first name :\")\n",
        "ins=input('Enter the second name :')\n",
        "print(ins,end=' ')\n",
        "print(inf)"
      ],
      "metadata": {
        "colab": {
          "base_uri": "https://localhost:8080/"
        },
        "id": "3BVwcctiC6zP",
        "outputId": "4ae0ec14-4a14-4d3a-80fc-209c1e7555f6"
      },
      "execution_count": 9,
      "outputs": [
        {
          "output_type": "stream",
          "name": "stdout",
          "text": [
            "Enter the first name :ahmed\n",
            "Enter the second name :mahmoud\n",
            "mahmoud ahmed\n",
            "Enter the first name :maro\n",
            "Enter the second name :adel\n",
            "adel maro\n"
          ]
        }
      ]
    },
    {
      "cell_type": "code",
      "source": [
        "x,y=input('enter two numbers:').split()\n",
        "z=int(x)%int(y)\n",
        "z\n"
      ],
      "metadata": {
        "colab": {
          "base_uri": "https://localhost:8080/"
        },
        "id": "72rrew8kFKJC",
        "outputId": "3d7f3a89-eaa3-4c26-a1cc-e6e4131555e9"
      },
      "execution_count": 17,
      "outputs": [
        {
          "name": "stdout",
          "output_type": "stream",
          "text": [
            "enter two numbers:11 9\n",
            "enter two numbers:11 9\n"
          ]
        },
        {
          "output_type": "execute_result",
          "data": {
            "text/plain": [
              "1"
            ]
          },
          "metadata": {},
          "execution_count": 17
        }
      ]
    },
    {
      "cell_type": "code",
      "source": [
        "x,y=input('enter two numbers:').split(',')\n",
        "tmp=x\n",
        "x=y\n",
        "y=tmp\n",
        "print('x = '+x+' ,y = '+y)\n"
      ],
      "metadata": {
        "id": "aUx0E3pxViQd"
      },
      "execution_count": null,
      "outputs": []
    },
    {
      "cell_type": "code",
      "source": [
        "H,M,S=input().split(':')\n",
        "x=int(H)*60*60\n",
        "y=int(M)*60\n",
        "print(x,y,S,sep=':')"
      ],
      "metadata": {
        "colab": {
          "base_uri": "https://localhost:8080/"
        },
        "id": "910Hlo4MZazX",
        "outputId": "82411ad7-3775-472b-8356-f68f074a0c45"
      },
      "execution_count": 20,
      "outputs": [
        {
          "output_type": "stream",
          "name": "stdout",
          "text": [
            "1:30:25\n",
            "3600:1800:25\n"
          ]
        }
      ]
    }
  ]
}